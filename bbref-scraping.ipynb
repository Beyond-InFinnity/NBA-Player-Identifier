{
 "cells": [
  {
   "cell_type": "code",
   "execution_count": 10,
   "id": "9a9783ec-cf72-4fcc-982e-3406d5b935af",
   "metadata": {},
   "outputs": [],
   "source": [
    "import os\n",
    "import time\n",
    "import random\n",
    "import pandas as pd\n",
    "import requests\n",
    "from bs4 import BeautifulSoup"
   ]
  },
  {
   "cell_type": "code",
   "execution_count": 11,
   "id": "bd99e399-c839-4e91-8aef-a3e26ba3b31d",
   "metadata": {},
   "outputs": [],
   "source": [
    "base_url = \"https://www.basketball-reference.com/teams/\""
   ]
  },
  {
   "cell_type": "code",
   "execution_count": 12,
   "id": "6cfce3af-3c0e-487e-b89d-3820018799c5",
   "metadata": {},
   "outputs": [],
   "source": [
    "data_dir = 'data/'"
   ]
  },
  {
   "cell_type": "code",
   "execution_count": 13,
   "id": "23dd1606-14ec-4afc-946b-6eb3277f985d",
   "metadata": {},
   "outputs": [],
   "source": [
    "if not os.path.exists(data_dir):\n",
    "    os.makedirs(data_dir)"
   ]
  },
  {
   "cell_type": "code",
   "execution_count": 16,
   "id": "63413467-03ab-4018-8c7b-92f10a249ffc",
   "metadata": {},
   "outputs": [],
   "source": [
    "def scrape_team_data(team, year):\n",
    "    url = f\"{base_url}{team}/{year}.html\"\n",
    "    \n",
    "    try:\n",
    "        response = requests.get(url)\n",
    "        \n",
    "        # Check the status code of the response\n",
    "        if response.status_code != 200:\n",
    "            print(f\"Failed to retrieve data for {team} in {year}. HTTP Status Code: {response.status_code}\")\n",
    "            return pd.DataFrame()\n",
    "\n",
    "        soup = BeautifulSoup(response.content, 'html.parser')\n",
    "\n",
    "        # Find the roster table\n",
    "        roster_table = soup.find('table', {'id': 'roster'})\n",
    "\n",
    "        if roster_table:\n",
    "            players = roster_table.find('tbody').find_all('tr')\n",
    "\n",
    "            data = []\n",
    "            for player in players:\n",
    "                try:\n",
    "                    # Extract player name and jersey number\n",
    "                    jersey_number = player.find('th', {'data-stat': 'number'}).text.strip()\n",
    "                    player_name = player.find('td', {'data-stat': 'player'}).text.strip()\n",
    "\n",
    "                    # Construct the player's profile URL if it exists\n",
    "                    player_profile_tag = player.find('td', {'data-stat': 'player'}).find('a')\n",
    "                    player_url = f\"https://www.basketball-reference.com{player_profile_tag['href']}\" if player_profile_tag else \"N/A\"\n",
    "\n",
    "                    # Append the data\n",
    "                    data.append({\n",
    "                        'Year': year,\n",
    "                        'PlayerName': player_name,\n",
    "                        'JerseyNumber': jersey_number,\n",
    "                        'PlayerURL': player_url\n",
    "                    })\n",
    "\n",
    "                except Exception as e:\n",
    "                    print(f\"Error processing player data for {team} in {year}: {e}\")\n",
    "\n",
    "            df = pd.DataFrame(data)\n",
    "            return df\n",
    "        else:\n",
    "            print(f\"Roster table not found for {team} in {year}\")\n",
    "            return pd.DataFrame()\n",
    "\n",
    "    except requests.exceptions.RequestException as e:\n",
    "        print(f\"Request failed for {team} in {year}: {e}\")\n",
    "        return pd.DataFrame()"
   ]
  },
  {
   "cell_type": "code",
   "execution_count": 17,
   "id": "42a5cce3-e17f-430e-8c31-4c4de6fd1f61",
   "metadata": {},
   "outputs": [],
   "source": [
    "team = 'BOS'\n",
    "year = 1954\n",
    "df = scrape_team_data(team, year)"
   ]
  },
  {
   "cell_type": "code",
   "execution_count": 18,
   "id": "ded1815c-9816-4e08-aade-6c667d791321",
   "metadata": {},
   "outputs": [
    {
     "name": "stdout",
     "output_type": "stream",
     "text": [
      "    Year     PlayerName JerseyNumber  \\\n",
      "0   1954  Don Barksdale           17   \n",
      "1   1954  Ernie Barrett           23   \n",
      "2   1954    Bob Brannum           18   \n",
      "3   1954   Chuck Cooper           11   \n",
      "4   1954      Bob Cousy           14   \n",
      "5   1954     Bob Donham           12   \n",
      "6   1954     Bob Harris           13   \n",
      "7   1954    Ed Macauley           22   \n",
      "8   1954       Ed Mikan           15   \n",
      "9   1954   Jack Nichols           16   \n",
      "10  1954   Bill Sharman           21   \n",
      "\n",
      "                                            PlayerURL  \n",
      "0   https://www.basketball-reference.com/players/b...  \n",
      "1   https://www.basketball-reference.com/players/b...  \n",
      "2   https://www.basketball-reference.com/players/b...  \n",
      "3   https://www.basketball-reference.com/players/c...  \n",
      "4   https://www.basketball-reference.com/players/c...  \n",
      "5   https://www.basketball-reference.com/players/d...  \n",
      "6   https://www.basketball-reference.com/players/h...  \n",
      "7   https://www.basketball-reference.com/players/m...  \n",
      "8   https://www.basketball-reference.com/players/m...  \n",
      "9   https://www.basketball-reference.com/players/n...  \n",
      "10  https://www.basketball-reference.com/players/s...  \n"
     ]
    }
   ],
   "source": [
    "print(df)\n"
   ]
  },
  {
   "cell_type": "code",
   "execution_count": 26,
   "id": "0e231104-76eb-4ffc-8f1f-19374265e47b",
   "metadata": {},
   "outputs": [],
   "source": [
    "def save_team_data(team, df):\n",
    "    if df.empty:\n",
    "        return  # Skip saving empty DataFrame\n",
    "\n",
    "    filename = f\"{team}_RosterData.csv\"\n",
    "    filepath = os.path.join(data_dir, filename)\n",
    "\n",
    "    if os.path.exists(filepath):\n",
    "        df.to_csv(filepath, mode='a', header=False, index=False)\n",
    "    else:\n",
    "        df.to_csv(filepath, index=False)\n",
    "\n",
    "    print(f\"Saved data for {team} to {filename}\")"
   ]
  },
  {
   "cell_type": "code",
   "execution_count": 27,
   "id": "4c260b7c-78da-400a-8d1d-2eb586025783",
   "metadata": {},
   "outputs": [],
   "source": [
    "def process_teams_years(teams_years):\n",
    "    for team, years in teams_years.items():\n",
    "        all_team_data = pd.DataFrame()\n",
    "        for year in years:\n",
    "            df = scrape_team_data(team, year)\n",
    "            all_team_data = pd.concat([all_team_data, df], ignore_index=True)\n",
    "            time.sleep(random.uniform(10, 15))  \n",
    "        save_team_data(team, all_team_data)"
   ]
  },
  {
   "cell_type": "code",
   "execution_count": 30,
   "id": "848a5e73-3633-4d79-8b8e-23a708c0173e",
   "metadata": {},
   "outputs": [],
   "source": [
    "teams_years = {\n",
    "    'MIN': list(range(1954, 1960)),  # Minneapolis Lakers from 1954 to 1959\n",
    "    'LAL': list(range(1960, 2025))   # Los Angeles Lakers from 1960 to 2024\n",
    "}"
   ]
  },
  {
   "cell_type": "code",
   "execution_count": 31,
   "id": "ef394487-d276-40f9-8f3b-1c7c3a82fc35",
   "metadata": {},
   "outputs": [
    {
     "name": "stdout",
     "output_type": "stream",
     "text": [
      "Failed to retrieve data for MIN in 1954. HTTP Status Code: 404\n",
      "Failed to retrieve data for MIN in 1955. HTTP Status Code: 404\n",
      "Failed to retrieve data for MIN in 1956. HTTP Status Code: 404\n",
      "Failed to retrieve data for MIN in 1957. HTTP Status Code: 404\n",
      "Failed to retrieve data for MIN in 1958. HTTP Status Code: 404\n",
      "Failed to retrieve data for MIN in 1959. HTTP Status Code: 404\n",
      "Failed to retrieve data for LAL in 1960. HTTP Status Code: 404\n",
      "Saved data for LAL to LAL_RosterData.csv\n"
     ]
    }
   ],
   "source": [
    "process_teams_years(teams_years)"
   ]
  },
  {
   "cell_type": "code",
   "execution_count": null,
   "id": "746ff07f-7442-4292-a89d-46d55648dbad",
   "metadata": {},
   "outputs": [],
   "source": []
  },
  {
   "cell_type": "code",
   "execution_count": null,
   "id": "2b9fc332-a7e1-40be-83a9-1dd56f0ce2f8",
   "metadata": {},
   "outputs": [],
   "source": []
  }
 ],
 "metadata": {
  "kernelspec": {
   "display_name": "Python 3 (ipykernel)",
   "language": "python",
   "name": "python3"
  },
  "language_info": {
   "codemirror_mode": {
    "name": "ipython",
    "version": 3
   },
   "file_extension": ".py",
   "mimetype": "text/x-python",
   "name": "python",
   "nbconvert_exporter": "python",
   "pygments_lexer": "ipython3",
   "version": "3.10.11"
  }
 },
 "nbformat": 4,
 "nbformat_minor": 5
}
